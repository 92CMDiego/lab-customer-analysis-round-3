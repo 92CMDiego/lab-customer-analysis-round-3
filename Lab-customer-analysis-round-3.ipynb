{
 "cells": [
  {
   "cell_type": "markdown",
   "metadata": {},
   "source": [
    "Lab | Customer Analysis Round 3\n",
    "For this lab, we still keep using the marketing_customer_analysis.csv file. You can find the file in the files_for_lab folder.\n",
    "\n",
    "Get the data\n",
    "Use the same jupyter file from the last lab, Customer Analysis Round 3\n",
    "\n",
    "EDA (Exploratory Data Analysis) - Complete the following tasks to explore the data:\n",
    "    Show DataFrame info.\n",
    "    Describe DataFrame.\n",
    "    Show a plot of the total number of responses.\n",
    "    Show a plot of the response rate by the sales channel.\n",
    "    Show a plot of the response rate by the total claim amount.\n",
    "    Show a plot of the response rate by income."
   ]
  },
  {
   "cell_type": "code",
   "execution_count": 1,
   "metadata": {},
   "outputs": [],
   "source": [
    "import pandas as pd\n",
    "import numpy as np\n",
    "\n",
    "data = pd.read_csv('./files_for_lab/csv_files/marketing_customer_analysis.csv')"
   ]
  },
  {
   "cell_type": "code",
   "execution_count": 2,
   "metadata": {},
   "outputs": [
    {
     "data": {
      "text/html": [
       "<div>\n",
       "<style scoped>\n",
       "    .dataframe tbody tr th:only-of-type {\n",
       "        vertical-align: middle;\n",
       "    }\n",
       "\n",
       "    .dataframe tbody tr th {\n",
       "        vertical-align: top;\n",
       "    }\n",
       "\n",
       "    .dataframe thead th {\n",
       "        text-align: right;\n",
       "    }\n",
       "</style>\n",
       "<table border=\"1\" class=\"dataframe\">\n",
       "  <thead>\n",
       "    <tr style=\"text-align: right;\">\n",
       "      <th></th>\n",
       "      <th>Customer</th>\n",
       "      <th>State</th>\n",
       "      <th>Customer Lifetime Value</th>\n",
       "      <th>Response</th>\n",
       "      <th>Coverage</th>\n",
       "      <th>Education</th>\n",
       "      <th>Effective To Date</th>\n",
       "      <th>EmploymentStatus</th>\n",
       "      <th>Gender</th>\n",
       "      <th>Income</th>\n",
       "      <th>...</th>\n",
       "      <th>Months Since Policy Inception</th>\n",
       "      <th>Number of Open Complaints</th>\n",
       "      <th>Number of Policies</th>\n",
       "      <th>Policy Type</th>\n",
       "      <th>Policy</th>\n",
       "      <th>Renew Offer Type</th>\n",
       "      <th>Sales Channel</th>\n",
       "      <th>Total Claim Amount</th>\n",
       "      <th>Vehicle Class</th>\n",
       "      <th>Vehicle Size</th>\n",
       "    </tr>\n",
       "  </thead>\n",
       "  <tbody>\n",
       "    <tr>\n",
       "      <th>0</th>\n",
       "      <td>BU79786</td>\n",
       "      <td>Washington</td>\n",
       "      <td>2763.519279</td>\n",
       "      <td>No</td>\n",
       "      <td>Basic</td>\n",
       "      <td>Bachelor</td>\n",
       "      <td>2/24/11</td>\n",
       "      <td>Employed</td>\n",
       "      <td>F</td>\n",
       "      <td>56274</td>\n",
       "      <td>...</td>\n",
       "      <td>5</td>\n",
       "      <td>0</td>\n",
       "      <td>1</td>\n",
       "      <td>Corporate Auto</td>\n",
       "      <td>Corporate L3</td>\n",
       "      <td>Offer1</td>\n",
       "      <td>Agent</td>\n",
       "      <td>384.811147</td>\n",
       "      <td>Two-Door Car</td>\n",
       "      <td>Medsize</td>\n",
       "    </tr>\n",
       "    <tr>\n",
       "      <th>1</th>\n",
       "      <td>QZ44356</td>\n",
       "      <td>Arizona</td>\n",
       "      <td>6979.535903</td>\n",
       "      <td>No</td>\n",
       "      <td>Extended</td>\n",
       "      <td>Bachelor</td>\n",
       "      <td>1/31/11</td>\n",
       "      <td>Unemployed</td>\n",
       "      <td>F</td>\n",
       "      <td>0</td>\n",
       "      <td>...</td>\n",
       "      <td>42</td>\n",
       "      <td>0</td>\n",
       "      <td>8</td>\n",
       "      <td>Personal Auto</td>\n",
       "      <td>Personal L3</td>\n",
       "      <td>Offer3</td>\n",
       "      <td>Agent</td>\n",
       "      <td>1131.464935</td>\n",
       "      <td>Four-Door Car</td>\n",
       "      <td>Medsize</td>\n",
       "    </tr>\n",
       "    <tr>\n",
       "      <th>2</th>\n",
       "      <td>AI49188</td>\n",
       "      <td>Nevada</td>\n",
       "      <td>12887.431650</td>\n",
       "      <td>No</td>\n",
       "      <td>Premium</td>\n",
       "      <td>Bachelor</td>\n",
       "      <td>2/19/11</td>\n",
       "      <td>Employed</td>\n",
       "      <td>F</td>\n",
       "      <td>48767</td>\n",
       "      <td>...</td>\n",
       "      <td>38</td>\n",
       "      <td>0</td>\n",
       "      <td>2</td>\n",
       "      <td>Personal Auto</td>\n",
       "      <td>Personal L3</td>\n",
       "      <td>Offer1</td>\n",
       "      <td>Agent</td>\n",
       "      <td>566.472247</td>\n",
       "      <td>Two-Door Car</td>\n",
       "      <td>Medsize</td>\n",
       "    </tr>\n",
       "    <tr>\n",
       "      <th>3</th>\n",
       "      <td>WW63253</td>\n",
       "      <td>California</td>\n",
       "      <td>7645.861827</td>\n",
       "      <td>No</td>\n",
       "      <td>Basic</td>\n",
       "      <td>Bachelor</td>\n",
       "      <td>1/20/11</td>\n",
       "      <td>Unemployed</td>\n",
       "      <td>M</td>\n",
       "      <td>0</td>\n",
       "      <td>...</td>\n",
       "      <td>65</td>\n",
       "      <td>0</td>\n",
       "      <td>7</td>\n",
       "      <td>Corporate Auto</td>\n",
       "      <td>Corporate L2</td>\n",
       "      <td>Offer1</td>\n",
       "      <td>Call Center</td>\n",
       "      <td>529.881344</td>\n",
       "      <td>SUV</td>\n",
       "      <td>Medsize</td>\n",
       "    </tr>\n",
       "    <tr>\n",
       "      <th>4</th>\n",
       "      <td>HB64268</td>\n",
       "      <td>Washington</td>\n",
       "      <td>2813.692575</td>\n",
       "      <td>No</td>\n",
       "      <td>Basic</td>\n",
       "      <td>Bachelor</td>\n",
       "      <td>2/3/11</td>\n",
       "      <td>Employed</td>\n",
       "      <td>M</td>\n",
       "      <td>43836</td>\n",
       "      <td>...</td>\n",
       "      <td>44</td>\n",
       "      <td>0</td>\n",
       "      <td>1</td>\n",
       "      <td>Personal Auto</td>\n",
       "      <td>Personal L1</td>\n",
       "      <td>Offer1</td>\n",
       "      <td>Agent</td>\n",
       "      <td>138.130879</td>\n",
       "      <td>Four-Door Car</td>\n",
       "      <td>Medsize</td>\n",
       "    </tr>\n",
       "    <tr>\n",
       "      <th>...</th>\n",
       "      <td>...</td>\n",
       "      <td>...</td>\n",
       "      <td>...</td>\n",
       "      <td>...</td>\n",
       "      <td>...</td>\n",
       "      <td>...</td>\n",
       "      <td>...</td>\n",
       "      <td>...</td>\n",
       "      <td>...</td>\n",
       "      <td>...</td>\n",
       "      <td>...</td>\n",
       "      <td>...</td>\n",
       "      <td>...</td>\n",
       "      <td>...</td>\n",
       "      <td>...</td>\n",
       "      <td>...</td>\n",
       "      <td>...</td>\n",
       "      <td>...</td>\n",
       "      <td>...</td>\n",
       "      <td>...</td>\n",
       "      <td>...</td>\n",
       "    </tr>\n",
       "    <tr>\n",
       "      <th>9129</th>\n",
       "      <td>LA72316</td>\n",
       "      <td>California</td>\n",
       "      <td>23405.987980</td>\n",
       "      <td>No</td>\n",
       "      <td>Basic</td>\n",
       "      <td>Bachelor</td>\n",
       "      <td>2/10/11</td>\n",
       "      <td>Employed</td>\n",
       "      <td>M</td>\n",
       "      <td>71941</td>\n",
       "      <td>...</td>\n",
       "      <td>89</td>\n",
       "      <td>0</td>\n",
       "      <td>2</td>\n",
       "      <td>Personal Auto</td>\n",
       "      <td>Personal L1</td>\n",
       "      <td>Offer2</td>\n",
       "      <td>Web</td>\n",
       "      <td>198.234764</td>\n",
       "      <td>Four-Door Car</td>\n",
       "      <td>Medsize</td>\n",
       "    </tr>\n",
       "    <tr>\n",
       "      <th>9130</th>\n",
       "      <td>PK87824</td>\n",
       "      <td>California</td>\n",
       "      <td>3096.511217</td>\n",
       "      <td>Yes</td>\n",
       "      <td>Extended</td>\n",
       "      <td>College</td>\n",
       "      <td>2/12/11</td>\n",
       "      <td>Employed</td>\n",
       "      <td>F</td>\n",
       "      <td>21604</td>\n",
       "      <td>...</td>\n",
       "      <td>28</td>\n",
       "      <td>0</td>\n",
       "      <td>1</td>\n",
       "      <td>Corporate Auto</td>\n",
       "      <td>Corporate L3</td>\n",
       "      <td>Offer1</td>\n",
       "      <td>Branch</td>\n",
       "      <td>379.200000</td>\n",
       "      <td>Four-Door Car</td>\n",
       "      <td>Medsize</td>\n",
       "    </tr>\n",
       "    <tr>\n",
       "      <th>9131</th>\n",
       "      <td>TD14365</td>\n",
       "      <td>California</td>\n",
       "      <td>8163.890428</td>\n",
       "      <td>No</td>\n",
       "      <td>Extended</td>\n",
       "      <td>Bachelor</td>\n",
       "      <td>2/6/11</td>\n",
       "      <td>Unemployed</td>\n",
       "      <td>M</td>\n",
       "      <td>0</td>\n",
       "      <td>...</td>\n",
       "      <td>37</td>\n",
       "      <td>3</td>\n",
       "      <td>2</td>\n",
       "      <td>Corporate Auto</td>\n",
       "      <td>Corporate L2</td>\n",
       "      <td>Offer1</td>\n",
       "      <td>Branch</td>\n",
       "      <td>790.784983</td>\n",
       "      <td>Four-Door Car</td>\n",
       "      <td>Medsize</td>\n",
       "    </tr>\n",
       "    <tr>\n",
       "      <th>9132</th>\n",
       "      <td>UP19263</td>\n",
       "      <td>California</td>\n",
       "      <td>7524.442436</td>\n",
       "      <td>No</td>\n",
       "      <td>Extended</td>\n",
       "      <td>College</td>\n",
       "      <td>2/3/11</td>\n",
       "      <td>Employed</td>\n",
       "      <td>M</td>\n",
       "      <td>21941</td>\n",
       "      <td>...</td>\n",
       "      <td>3</td>\n",
       "      <td>0</td>\n",
       "      <td>3</td>\n",
       "      <td>Personal Auto</td>\n",
       "      <td>Personal L2</td>\n",
       "      <td>Offer3</td>\n",
       "      <td>Branch</td>\n",
       "      <td>691.200000</td>\n",
       "      <td>Four-Door Car</td>\n",
       "      <td>Large</td>\n",
       "    </tr>\n",
       "    <tr>\n",
       "      <th>9133</th>\n",
       "      <td>Y167826</td>\n",
       "      <td>California</td>\n",
       "      <td>2611.836866</td>\n",
       "      <td>No</td>\n",
       "      <td>Extended</td>\n",
       "      <td>College</td>\n",
       "      <td>2/14/11</td>\n",
       "      <td>Unemployed</td>\n",
       "      <td>M</td>\n",
       "      <td>0</td>\n",
       "      <td>...</td>\n",
       "      <td>90</td>\n",
       "      <td>0</td>\n",
       "      <td>1</td>\n",
       "      <td>Corporate Auto</td>\n",
       "      <td>Corporate L3</td>\n",
       "      <td>Offer4</td>\n",
       "      <td>Call Center</td>\n",
       "      <td>369.600000</td>\n",
       "      <td>Two-Door Car</td>\n",
       "      <td>Medsize</td>\n",
       "    </tr>\n",
       "  </tbody>\n",
       "</table>\n",
       "<p>9134 rows × 24 columns</p>\n",
       "</div>"
      ],
      "text/plain": [
       "     Customer       State  Customer Lifetime Value Response  Coverage  \\\n",
       "0     BU79786  Washington              2763.519279       No     Basic   \n",
       "1     QZ44356     Arizona              6979.535903       No  Extended   \n",
       "2     AI49188      Nevada             12887.431650       No   Premium   \n",
       "3     WW63253  California              7645.861827       No     Basic   \n",
       "4     HB64268  Washington              2813.692575       No     Basic   \n",
       "...       ...         ...                      ...      ...       ...   \n",
       "9129  LA72316  California             23405.987980       No     Basic   \n",
       "9130  PK87824  California              3096.511217      Yes  Extended   \n",
       "9131  TD14365  California              8163.890428       No  Extended   \n",
       "9132  UP19263  California              7524.442436       No  Extended   \n",
       "9133  Y167826  California              2611.836866       No  Extended   \n",
       "\n",
       "     Education Effective To Date EmploymentStatus Gender  Income  ...  \\\n",
       "0     Bachelor           2/24/11         Employed      F   56274  ...   \n",
       "1     Bachelor           1/31/11       Unemployed      F       0  ...   \n",
       "2     Bachelor           2/19/11         Employed      F   48767  ...   \n",
       "3     Bachelor           1/20/11       Unemployed      M       0  ...   \n",
       "4     Bachelor            2/3/11         Employed      M   43836  ...   \n",
       "...        ...               ...              ...    ...     ...  ...   \n",
       "9129  Bachelor           2/10/11         Employed      M   71941  ...   \n",
       "9130   College           2/12/11         Employed      F   21604  ...   \n",
       "9131  Bachelor            2/6/11       Unemployed      M       0  ...   \n",
       "9132   College            2/3/11         Employed      M   21941  ...   \n",
       "9133   College           2/14/11       Unemployed      M       0  ...   \n",
       "\n",
       "     Months Since Policy Inception Number of Open Complaints  \\\n",
       "0                                5                         0   \n",
       "1                               42                         0   \n",
       "2                               38                         0   \n",
       "3                               65                         0   \n",
       "4                               44                         0   \n",
       "...                            ...                       ...   \n",
       "9129                            89                         0   \n",
       "9130                            28                         0   \n",
       "9131                            37                         3   \n",
       "9132                             3                         0   \n",
       "9133                            90                         0   \n",
       "\n",
       "      Number of Policies     Policy Type        Policy  Renew Offer Type  \\\n",
       "0                      1  Corporate Auto  Corporate L3            Offer1   \n",
       "1                      8   Personal Auto   Personal L3            Offer3   \n",
       "2                      2   Personal Auto   Personal L3            Offer1   \n",
       "3                      7  Corporate Auto  Corporate L2            Offer1   \n",
       "4                      1   Personal Auto   Personal L1            Offer1   \n",
       "...                  ...             ...           ...               ...   \n",
       "9129                   2   Personal Auto   Personal L1            Offer2   \n",
       "9130                   1  Corporate Auto  Corporate L3            Offer1   \n",
       "9131                   2  Corporate Auto  Corporate L2            Offer1   \n",
       "9132                   3   Personal Auto   Personal L2            Offer3   \n",
       "9133                   1  Corporate Auto  Corporate L3            Offer4   \n",
       "\n",
       "      Sales Channel Total Claim Amount  Vehicle Class Vehicle Size  \n",
       "0             Agent         384.811147   Two-Door Car      Medsize  \n",
       "1             Agent        1131.464935  Four-Door Car      Medsize  \n",
       "2             Agent         566.472247   Two-Door Car      Medsize  \n",
       "3       Call Center         529.881344            SUV      Medsize  \n",
       "4             Agent         138.130879  Four-Door Car      Medsize  \n",
       "...             ...                ...            ...          ...  \n",
       "9129            Web         198.234764  Four-Door Car      Medsize  \n",
       "9130         Branch         379.200000  Four-Door Car      Medsize  \n",
       "9131         Branch         790.784983  Four-Door Car      Medsize  \n",
       "9132         Branch         691.200000  Four-Door Car        Large  \n",
       "9133    Call Center         369.600000   Two-Door Car      Medsize  \n",
       "\n",
       "[9134 rows x 24 columns]"
      ]
     },
     "execution_count": 2,
     "metadata": {},
     "output_type": "execute_result"
    }
   ],
   "source": [
    "data"
   ]
  },
  {
   "cell_type": "code",
   "execution_count": 3,
   "metadata": {},
   "outputs": [
    {
     "data": {
      "text/html": [
       "<div>\n",
       "<style scoped>\n",
       "    .dataframe tbody tr th:only-of-type {\n",
       "        vertical-align: middle;\n",
       "    }\n",
       "\n",
       "    .dataframe tbody tr th {\n",
       "        vertical-align: top;\n",
       "    }\n",
       "\n",
       "    .dataframe thead th {\n",
       "        text-align: right;\n",
       "    }\n",
       "</style>\n",
       "<table border=\"1\" class=\"dataframe\">\n",
       "  <thead>\n",
       "    <tr style=\"text-align: right;\">\n",
       "      <th></th>\n",
       "      <th>count</th>\n",
       "      <th>mean</th>\n",
       "      <th>std</th>\n",
       "      <th>min</th>\n",
       "      <th>25%</th>\n",
       "      <th>50%</th>\n",
       "      <th>75%</th>\n",
       "      <th>max</th>\n",
       "    </tr>\n",
       "  </thead>\n",
       "  <tbody>\n",
       "    <tr>\n",
       "      <th>Customer Lifetime Value</th>\n",
       "      <td>9134.0</td>\n",
       "      <td>8004.940475</td>\n",
       "      <td>6870.967608</td>\n",
       "      <td>1898.007675</td>\n",
       "      <td>3994.251794</td>\n",
       "      <td>5780.182197</td>\n",
       "      <td>8962.167041</td>\n",
       "      <td>83325.381190</td>\n",
       "    </tr>\n",
       "    <tr>\n",
       "      <th>Income</th>\n",
       "      <td>9134.0</td>\n",
       "      <td>37657.380009</td>\n",
       "      <td>30379.904734</td>\n",
       "      <td>0.000000</td>\n",
       "      <td>0.000000</td>\n",
       "      <td>33889.500000</td>\n",
       "      <td>62320.000000</td>\n",
       "      <td>99981.000000</td>\n",
       "    </tr>\n",
       "    <tr>\n",
       "      <th>Monthly Premium Auto</th>\n",
       "      <td>9134.0</td>\n",
       "      <td>93.219291</td>\n",
       "      <td>34.407967</td>\n",
       "      <td>61.000000</td>\n",
       "      <td>68.000000</td>\n",
       "      <td>83.000000</td>\n",
       "      <td>109.000000</td>\n",
       "      <td>298.000000</td>\n",
       "    </tr>\n",
       "    <tr>\n",
       "      <th>Months Since Last Claim</th>\n",
       "      <td>9134.0</td>\n",
       "      <td>15.097000</td>\n",
       "      <td>10.073257</td>\n",
       "      <td>0.000000</td>\n",
       "      <td>6.000000</td>\n",
       "      <td>14.000000</td>\n",
       "      <td>23.000000</td>\n",
       "      <td>35.000000</td>\n",
       "    </tr>\n",
       "    <tr>\n",
       "      <th>Months Since Policy Inception</th>\n",
       "      <td>9134.0</td>\n",
       "      <td>48.064594</td>\n",
       "      <td>27.905991</td>\n",
       "      <td>0.000000</td>\n",
       "      <td>24.000000</td>\n",
       "      <td>48.000000</td>\n",
       "      <td>71.000000</td>\n",
       "      <td>99.000000</td>\n",
       "    </tr>\n",
       "    <tr>\n",
       "      <th>Number of Open Complaints</th>\n",
       "      <td>9134.0</td>\n",
       "      <td>0.384388</td>\n",
       "      <td>0.910384</td>\n",
       "      <td>0.000000</td>\n",
       "      <td>0.000000</td>\n",
       "      <td>0.000000</td>\n",
       "      <td>0.000000</td>\n",
       "      <td>5.000000</td>\n",
       "    </tr>\n",
       "    <tr>\n",
       "      <th>Number of Policies</th>\n",
       "      <td>9134.0</td>\n",
       "      <td>2.966170</td>\n",
       "      <td>2.390182</td>\n",
       "      <td>1.000000</td>\n",
       "      <td>1.000000</td>\n",
       "      <td>2.000000</td>\n",
       "      <td>4.000000</td>\n",
       "      <td>9.000000</td>\n",
       "    </tr>\n",
       "    <tr>\n",
       "      <th>Total Claim Amount</th>\n",
       "      <td>9134.0</td>\n",
       "      <td>434.088794</td>\n",
       "      <td>290.500092</td>\n",
       "      <td>0.099007</td>\n",
       "      <td>272.258244</td>\n",
       "      <td>383.945434</td>\n",
       "      <td>547.514839</td>\n",
       "      <td>2893.239678</td>\n",
       "    </tr>\n",
       "  </tbody>\n",
       "</table>\n",
       "</div>"
      ],
      "text/plain": [
       "                                count          mean           std  \\\n",
       "Customer Lifetime Value        9134.0   8004.940475   6870.967608   \n",
       "Income                         9134.0  37657.380009  30379.904734   \n",
       "Monthly Premium Auto           9134.0     93.219291     34.407967   \n",
       "Months Since Last Claim        9134.0     15.097000     10.073257   \n",
       "Months Since Policy Inception  9134.0     48.064594     27.905991   \n",
       "Number of Open Complaints      9134.0      0.384388      0.910384   \n",
       "Number of Policies             9134.0      2.966170      2.390182   \n",
       "Total Claim Amount             9134.0    434.088794    290.500092   \n",
       "\n",
       "                                       min          25%           50%  \\\n",
       "Customer Lifetime Value        1898.007675  3994.251794   5780.182197   \n",
       "Income                            0.000000     0.000000  33889.500000   \n",
       "Monthly Premium Auto             61.000000    68.000000     83.000000   \n",
       "Months Since Last Claim           0.000000     6.000000     14.000000   \n",
       "Months Since Policy Inception     0.000000    24.000000     48.000000   \n",
       "Number of Open Complaints         0.000000     0.000000      0.000000   \n",
       "Number of Policies                1.000000     1.000000      2.000000   \n",
       "Total Claim Amount                0.099007   272.258244    383.945434   \n",
       "\n",
       "                                        75%           max  \n",
       "Customer Lifetime Value         8962.167041  83325.381190  \n",
       "Income                         62320.000000  99981.000000  \n",
       "Monthly Premium Auto             109.000000    298.000000  \n",
       "Months Since Last Claim           23.000000     35.000000  \n",
       "Months Since Policy Inception     71.000000     99.000000  \n",
       "Number of Open Complaints          0.000000      5.000000  \n",
       "Number of Policies                 4.000000      9.000000  \n",
       "Total Claim Amount               547.514839   2893.239678  "
      ]
     },
     "execution_count": 3,
     "metadata": {},
     "output_type": "execute_result"
    }
   ],
   "source": [
    "data.describe().T"
   ]
  },
  {
   "cell_type": "code",
   "execution_count": 4,
   "metadata": {},
   "outputs": [
    {
     "data": {
      "text/plain": [
       "array(['Agent', 'Call Center', 'Web', 'Branch'], dtype=object)"
      ]
     },
     "execution_count": 4,
     "metadata": {},
     "output_type": "execute_result"
    }
   ],
   "source": [
    "data.dtypes\n",
    "data['Sales Channel'].unique()"
   ]
  },
  {
   "cell_type": "code",
   "execution_count": 5,
   "metadata": {},
   "outputs": [
    {
     "data": {
      "text/plain": [
       "[7826, 1308]"
      ]
     },
     "execution_count": 5,
     "metadata": {},
     "output_type": "execute_result"
    }
   ],
   "source": [
    "# Show a plot of the total number of responses.\n",
    "tot_num_resp = data['Response'].value_counts()\n",
    "tot_num_resp\n",
    "\n",
    "tot_num_resp_ls = tot_num_resp.tolist()\n",
    "tot_num_resp_ls"
   ]
  },
  {
   "cell_type": "code",
   "execution_count": 6,
   "metadata": {},
   "outputs": [
    {
     "name": "stdout",
     "output_type": "stream",
     "text": [
      "['No', 'Yes']\n",
      "[7826, 1308]\n"
     ]
    }
   ],
   "source": [
    "from collections import Counter\n",
    "\n",
    "x = ['No', 'Yes']\n",
    "y = []\n",
    "y = tot_num_resp_ls\n",
    "print(x)\n",
    "print(y)"
   ]
  },
  {
   "cell_type": "code",
   "execution_count": 7,
   "metadata": {},
   "outputs": [
    {
     "data": {
      "image/png": "[encoded data removed]",
      "text/plain": [
       "<Figure size 640x480 with 1 Axes>"
      ]
     },
     "metadata": {},
     "output_type": "display_data"
    }
   ],
   "source": [
    "\n",
    "import matplotlib.pyplot as plt\n",
    "\n",
    "plt.bar(x,y)\n",
    "plt.show()"
   ]
  },
  {
   "cell_type": "code",
   "execution_count": 8,
   "metadata": {},
   "outputs": [
    {
     "data": {
      "text/plain": [
       "Customer                          object\n",
       "State                             object\n",
       "Customer Lifetime Value          float64\n",
       "Response                          object\n",
       "Coverage                          object\n",
       "Education                         object\n",
       "Effective To Date                 object\n",
       "EmploymentStatus                  object\n",
       "Gender                            object\n",
       "Income                             int64\n",
       "Location Code                     object\n",
       "Marital Status                    object\n",
       "Monthly Premium Auto               int64\n",
       "Months Since Last Claim            int64\n",
       "Months Since Policy Inception      int64\n",
       "Number of Open Complaints          int64\n",
       "Number of Policies                 int64\n",
       "Policy Type                       object\n",
       "Policy                            object\n",
       "Renew Offer Type                  object\n",
       "Sales Channel                     object\n",
       "Total Claim Amount               float64\n",
       "Vehicle Class                     object\n",
       "Vehicle Size                      object\n",
       "dtype: object"
      ]
     },
     "execution_count": 8,
     "metadata": {},
     "output_type": "execute_result"
    }
   ],
   "source": [
    "data.dtypes"
   ]
  },
  {
   "cell_type": "code",
   "execution_count": 9,
   "metadata": {},
   "outputs": [
    {
     "data": {
      "text/plain": [
       "False    7826\n",
       "True     1308\n",
       "Name: Response bool, dtype: int64"
      ]
     },
     "execution_count": 9,
     "metadata": {},
     "output_type": "execute_result"
    }
   ],
   "source": [
    "#  We create a new column 'Response bool' with values True/False obtained from 'Response' column.\n",
    "\n",
    "data['Response bool'] = data['Response'].map({'Yes': True, 'No': False})\n",
    "data['Response bool'].value_counts()"
   ]
  },
  {
   "cell_type": "code",
   "execution_count": 10,
   "metadata": {},
   "outputs": [
    {
     "data": {
      "text/plain": [
       "0    7826\n",
       "1    1308\n",
       "Name: Response bool, dtype: int64"
      ]
     },
     "execution_count": 10,
     "metadata": {},
     "output_type": "execute_result"
    }
   ],
   "source": [
    "#  We change the type of this column to integer.\n",
    "\n",
    "data['Response bool'] = data['Response bool'].astype(int)\n",
    "data['Response bool'].value_counts()"
   ]
  },
  {
   "cell_type": "code",
   "execution_count": 11,
   "metadata": {},
   "outputs": [
    {
     "data": {
      "image/png": "[encoded data removed]",
      "text/plain": [
       "<Figure size 640x480 with 1 Axes>"
      ]
     },
     "metadata": {},
     "output_type": "display_data"
    }
   ],
   "source": [
    "# Show a plot of the response rate by the sales channel.\n",
    "\n",
    "import seaborn as sns\n",
    "\n",
    "sns.barplot(x=\"Sales Channel\", y=\"Response bool\", data=data)\n",
    "plt.show()"
   ]
  },
  {
   "cell_type": "code",
   "execution_count": 12,
   "metadata": {},
   "outputs": [
    {
     "data": {
      "text/plain": [
       "0    2811\n",
       "1     666\n",
       "Name: Response bool, dtype: int64"
      ]
     },
     "execution_count": 12,
     "metadata": {},
     "output_type": "execute_result"
    }
   ],
   "source": [
    "data[data['Sales Channel'] == 'Agent']['Response bool'].value_counts()"
   ]
  },
  {
   "cell_type": "code",
   "execution_count": 13,
   "metadata": {},
   "outputs": [
    {
     "data": {
      "text/plain": [
       "0.23692636072572038"
      ]
     },
     "execution_count": 13,
     "metadata": {},
     "output_type": "execute_result"
    }
   ],
   "source": [
    "x = 666/2811\n",
    "x\n",
    "\n",
    "#  We confirm that the plot shows the data correctly."
   ]
  },
  {
   "cell_type": "code",
   "execution_count": 14,
   "metadata": {},
   "outputs": [
    {
     "data": {
      "text/plain": [
       "<seaborn.axisgrid.FacetGrid at 0x1eeed390d10>"
      ]
     },
     "execution_count": 14,
     "metadata": {},
     "output_type": "execute_result"
    },
    {
     "data": {
      "image/png": "[encoded data removed]",
      "text/plain": [
       "<Figure size 500x500 with 1 Axes>"
      ]
     },
     "metadata": {},
     "output_type": "display_data"
    }
   ],
   "source": [
    "# Show a plot of the response rate by the total claim amount.\n",
    "\n",
    "# We obtain filtered data with Response bool = 1.\n",
    "data_respyes = data[data['Response bool']==1]\n",
    "\n",
    "sns.displot(data_respyes['Total Claim Amount'], kde=True, color='blue')"
   ]
  },
  {
   "cell_type": "code",
   "execution_count": 17,
   "metadata": {},
   "outputs": [
    {
     "data": {
      "text/plain": [
       "<seaborn.axisgrid.FacetGrid at 0x1eef1023c10>"
      ]
     },
     "execution_count": 17,
     "metadata": {},
     "output_type": "execute_result"
    },
    {
     "data": {
      "image/png": "[encoded data removed]",
      "text/plain": [
       "<Figure size 500x500 with 1 Axes>"
      ]
     },
     "metadata": {},
     "output_type": "display_data"
    }
   ],
   "source": [
    "# Show a plot of the response rate by income.\n",
    "\n",
    "sns.displot(data_respyes['Income'], kde=True, color='blue', bins=30)"
   ]
  }
 ],
 "metadata": {
  "kernelspec": {
   "display_name": "base",
   "language": "python",
   "name": "python3"
  },
  "language_info": {
   "codemirror_mode": {
    "name": "ipython",
    "version": 3
   },
   "file_extension": ".py",
   "mimetype": "text/x-python",
   "name": "python",
   "nbconvert_exporter": "python",
   "pygments_lexer": "ipython3",
   "version": "3.11.3"
  },
  "orig_nbformat": 4
 },
 "nbformat": 4,
 "nbformat_minor": 2
}
